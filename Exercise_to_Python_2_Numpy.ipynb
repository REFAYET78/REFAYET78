{
  "nbformat": 4,
  "nbformat_minor": 0,
  "metadata": {
    "colab": {
      "provenance": [],
      "authorship_tag": "ABX9TyPTNu1cJ5JEHzaHmp4h1HFV",
      "include_colab_link": true
    },
    "kernelspec": {
      "name": "python3",
      "display_name": "Python 3"
    },
    "language_info": {
      "name": "python"
    }
  },
  "cells": [
    {
      "cell_type": "markdown",
      "metadata": {
        "id": "view-in-github",
        "colab_type": "text"
      },
      "source": [
        "<a href=\"https://colab.research.google.com/github/REFAYET78/REFAYET78/blob/main/Exercise_to_Python_2_Numpy.ipynb\" target=\"_parent\"><img src=\"https://colab.research.google.com/assets/colab-badge.svg\" alt=\"Open In Colab\"/></a>"
      ]
    },
    {
      "cell_type": "markdown",
      "source": [
        "**Exercise**\n",
        "Your First NumPy Array\n",
        "You're now going to dive into the world of baseball. Along the way, you'll get comfortable with the basics of numpy, a powerful package to do data science.\n",
        "\n",
        "A list baseball has already been defined in the Python script, representing the height of some baseball players in centimeters. Can you add some code to create a numpy array from it?\n",
        "\n",
        "**Instructions**\n",
        "\n",
        "Import the numpy package as np, so that you can refer to numpy with np.\n",
        "Use np.array() to create a numpy array from baseball. Name this array np_baseball.\n",
        "Print out the type of np_baseball to check that you got it right."
      ],
      "metadata": {
        "id": "EMhbRgjUKxaw"
      }
    },
    {
      "cell_type": "code",
      "source": [
        "# Import the numpy package as np\n",
        "import numpy as np\n",
        "\n",
        "baseball = [180, 215, 210, 210, 188, 176, 209, 200]\n",
        "\n",
        "# Create a numpy array from baseball: np_baseball\n",
        "np_baseball = np.array(baseball)\n",
        "\n",
        "# Print out type of np_baseball\n",
        "print(type(np_baseball))\n"
      ],
      "metadata": {
        "colab": {
          "base_uri": "https://localhost:8080/"
        },
        "id": "vgm8SXQrK54A",
        "outputId": "a41aab81-6a47-46ab-801b-6718c81ec9a4"
      },
      "execution_count": 1,
      "outputs": [
        {
          "output_type": "stream",
          "name": "stdout",
          "text": [
            "<class 'numpy.ndarray'>\n"
          ]
        }
      ]
    },
    {
      "cell_type": "markdown",
      "source": [
        "**Exercise**\n",
        "Baseball players' height\n",
        "You are a huge baseball fan. You decide to call the MLB (Major League Baseball) and ask around for some more statistics on the height of the main players. They pass along data on more than a thousand players, which is stored as a regular Python list: height_in. The height is expressed in inches. Can you make a numpy array out of it and convert the units to meters?\n",
        "\n",
        "height_in is already available and the numpy package is loaded, so you can start straight away (Source: stat.ucla.edu).\n",
        "\n",
        "Instructions\n",
        "\n",
        "Create a numpy array from height_in. Name this new array np_height_in.\n",
        "Print np_height_in.\n",
        "Multiply np_height_in with 0.0254 to convert all height measurements from inches to meters. Store the new values in a new array, np_height_m.\n",
        "Print out np_height_m and check if the output makes sense."
      ],
      "metadata": {
        "id": "S1pGmqDILxDn"
      }
    },
    {
      "cell_type": "code",
      "source": [
        "# Import numpy\n",
        "import numpy as np\n",
        "# Create a numpy array from height_in: np_height_in\n",
        "height_in = [74, 74, 72, 72, 73, 69, 69, 71, 76, 71]\n",
        "np_height_in = np.array(height_in)\n",
        "\n",
        "# Print out np_height_in\n",
        "print(np_height_in)\n",
        "\n",
        "# Convert np_height_in to m: np_height_m\n",
        "np_height_m = np_height_in * 0.0254\n",
        "\n",
        "# Print np_height_m\n",
        "print(np_height_m)"
      ],
      "metadata": {
        "colab": {
          "base_uri": "https://localhost:8080/"
        },
        "id": "Nqs2Lv_qMxWR",
        "outputId": "bd2e2a37-d5ef-49df-cf48-53671f1c7407"
      },
      "execution_count": 2,
      "outputs": [
        {
          "output_type": "stream",
          "name": "stdout",
          "text": [
            "[74 74 72 72 73 69 69 71 76 71]\n",
            "[1.8796 1.8796 1.8288 1.8288 1.8542 1.7526 1.7526 1.8034 1.9304 1.8034]\n"
          ]
        }
      ]
    },
    {
      "cell_type": "markdown",
      "source": [
        "**Exercise**\n",
        "Subsetting NumPy Arrays\n",
        "Subsetting (using the square bracket notation on lists or arrays) works exactly the same with both lists and arrays.\n",
        "\n",
        "This exercise already has two lists, height_in and weight_lb, loaded in the background for you. These contain the height and weight of the MLB players as regular lists. It also has two numpy array lists, np_weight_lb and np_height_in prepared for you.\n",
        "\n",
        "**Instructions**\n",
        "\n",
        "Subset np_weight_lb by printing out the element at index 50.\n",
        "Print out a sub-array of np_height_in that contains the elements at index 100 up to and including index 110."
      ],
      "metadata": {
        "id": "DJTvTvkSO_c7"
      }
    },
    {
      "cell_type": "code",
      "source": [
        "import numpy as np\n",
        "\n",
        "np_weight_lb = np.array(weight_lb)\n",
        "np_height_in = np.array(height_in)\n",
        "\n",
        "# Print out the weight at index 50\n",
        "print(np_weight_lb[50])\n",
        "\n",
        "# Print out sub-array of np_height_in: index 100 up to and including index 110\n",
        "print(np_height_in[100:111])"
      ],
      "metadata": {
        "id": "g7leXcqgPMBJ",
        "collapsed": true
      },
      "execution_count": null,
      "outputs": []
    },
    {
      "cell_type": "markdown",
      "source": [
        "**Exercise**\n",
        "Your First 2D NumPy Array\n",
        "Before working on the actual MLB data, let's try to create a 2D numpy array from a small list of lists.\n",
        "\n",
        "In this exercise, baseball is a list of lists. The main list contains 4 elements. Each of these elements is a list containing the height and the weight of 4 baseball players, in this order. baseball is already coded for you in the script.\n",
        "\n",
        "**Instructions**\n",
        "\n",
        "Use np.array() to create a 2D numpy array from baseball. Name it np_baseball.\n",
        "Print out the type of np_baseball.\n",
        "Print out the shape attribute of np_baseball. Use np_baseball.shape."
      ],
      "metadata": {
        "id": "qFwZPpVQNimr"
      }
    },
    {
      "cell_type": "code",
      "source": [
        "import numpy as np\n",
        "\n",
        "baseball = [[180, 78.4],\n",
        "            [215, 102.7],\n",
        "            [210, 98.5],\n",
        "            [188, 75.2]]\n",
        "\n",
        "# Create a 2D numpy array from baseball: np_baseball\n",
        "np_baseball = np.array(\n",
        "            [[180, 78.4],\n",
        "            [215, 102.7],\n",
        "            [210, 98.5],\n",
        "            [188, 75.2]])\n",
        "\n",
        "# Print out the type of np_baseball\n",
        "print(type(np_baseball))\n",
        "\n",
        "# Print out the shape of np_baseball\n",
        "print(np_baseball.shape)"
      ],
      "metadata": {
        "colab": {
          "base_uri": "https://localhost:8080/"
        },
        "id": "k_MxH22QNu9-",
        "outputId": "bcf41ec2-c82f-4f96-efbc-bdd29ba35b70"
      },
      "execution_count": 5,
      "outputs": [
        {
          "output_type": "stream",
          "name": "stdout",
          "text": [
            "<class 'numpy.ndarray'>\n",
            "(4, 2)\n"
          ]
        }
      ]
    },
    {
      "cell_type": "markdown",
      "source": [
        "**Exercise**\n",
        "Baseball data in 2D form\n",
        "You realize that it makes more sense to restructure all this information in a 2D numpy array.\n",
        "\n",
        "You have a Python list of lists. In this list of lists, each sublist represents the height and weight of a single baseball player. The name of this list is baseball and it has been loaded for you already (although you can't see it).\n",
        "\n",
        "Store the data as a 2D array to unlock numpy's extra functionality.\n",
        "\n",
        "**Instructions**\n",
        "\n",
        "Use np.array() to create a 2D numpy array from baseball. Name it np_baseball.\n",
        "Print out the shape attribute of np_baseball."
      ],
      "metadata": {
        "id": "pk-iWl3iPMsa"
      }
    },
    {
      "cell_type": "code",
      "source": [
        "import numpy as np\n",
        "\n",
        "# Create a 2D numpy array from baseball: np_baseball\n",
        "np_baseball = np.array(baseball)\n",
        "\n",
        "# Print out the shape of np_baseball\n",
        "print(np_baseball.shape)"
      ],
      "metadata": {
        "colab": {
          "base_uri": "https://localhost:8080/"
        },
        "id": "0jw-op7mPua7",
        "outputId": "d3b99a48-482e-4748-af94-b7a39773379f"
      },
      "execution_count": 6,
      "outputs": [
        {
          "output_type": "stream",
          "name": "stdout",
          "text": [
            "(4, 2)\n"
          ]
        }
      ]
    },
    {
      "cell_type": "markdown",
      "source": [
        "**Exercise**\n",
        "Subsetting 2D NumPy Arrays\n",
        "If your 2D numpy array has a regular structure, i.e. each row and column has a fixed number of values, complicated ways of subsetting become very easy. Have a look at the code below where the elements \"a\" and \"c\" are extracted from a list of lists.\n",
        "\n",
        "# numpy\n",
        "import numpy as np\n",
        "np_x = np.array(x)\n",
        "np_x[:, 0]\n",
        "The indexes before the comma refer to the rows, while those after the comma refer to the columns. The : is for slicing; in this example, it tells Python to include all rows.\n",
        "\n",
        "**Instructions**\n",
        "\n",
        "Print out the 50th row of np_baseball.\n",
        "Make a new variable, np_weight_lb, containing the entire second column of np_baseball.\n",
        "Select the height (first column) of the 124th baseball player in np_baseball and print it out."
      ],
      "metadata": {
        "id": "cl7hNP4UP2Uq"
      }
    },
    {
      "cell_type": "code",
      "source": [
        "import numpy as np\n",
        "\n",
        "np_baseball = np.array(baseball)\n",
        "\n",
        "# Print out the 50th row of np_baseball\n",
        "\n",
        "\n",
        "# Select the entire second column of np_baseball: np_weight_lb\n",
        "\n",
        "\n",
        "# Print out height of 124th player\n"
      ],
      "metadata": {
        "id": "faYukUX3QC16"
      },
      "execution_count": 9,
      "outputs": []
    },
    {
      "cell_type": "markdown",
      "source": [
        "**Exercise**\n",
        "2D Arithmetic\n",
        "2D numpy arrays can perform calculations element by element, like numpy arrays.\n",
        "\n",
        "np_baseball is coded for you; it's again a 2D numpy array with 3 columns representing height (in inches), weight (in pounds) and age (in years). baseball is available as a regular list of lists and updated is available as 2D numpy array.\n",
        "\n",
        "**Instructions**\n",
        "\n",
        "You managed to get hold of the changes in height, weight and age of all baseball players. It is available as a 2D numpy array, updated. Add np_baseball and updated and print out the result.\n",
        "You want to convert the units of height and weight to metric (meters and kilograms, respectively). As a first step, create a numpy array with three values: 0.0254, 0.453592 and 1. Name this array conversion.\n",
        "Multiply np_baseball with conversion and print out the result"
      ],
      "metadata": {
        "id": "P_ae-lFXRsjb"
      }
    },
    {
      "cell_type": "code",
      "source": [
        "import numpy as np\n",
        "\n",
        "np_baseball = np.array(baseball)\n",
        "\n",
        "# Print out addition of np_baseball and updated\n",
        "\n",
        "\n",
        "# Create numpy array: conversion\n",
        "\n",
        "\n",
        "# Print out product of np_baseball and conversion"
      ],
      "metadata": {
        "id": "KTw51NrMR6NY"
      },
      "execution_count": null,
      "outputs": []
    },
    {
      "cell_type": "markdown",
      "source": [
        "**Exercise**\n",
        "Average versus median\n",
        "You now know how to use numpy functions to get a better feeling for your data.\n",
        "\n",
        "The baseball data is available as a 2D numpy array with 3 columns (height, weight, age) and 1015 rows. The name of this numpy array is np_baseball. After restructuring the data, however, you notice that some height values are abnormally high. Follow the instructions and discover which summary statistic is best suited if you're dealing with so-called outliers. np_baseball is available.\n",
        "\n",
        "**Instructions**\n",
        "\n",
        "Create numpy array np_height_in that is equal to first column of np_baseball.\n",
        "Print out the mean of np_height_in.\n",
        "Print out the median of np_height_in."
      ],
      "metadata": {
        "id": "J5nCQSexhFBC"
      }
    },
    {
      "cell_type": "code",
      "source": [
        "import numpy as np\n",
        "\n",
        "# Create np_height_in from np_baseball\n",
        "np_height_in = np_baseball[:,0]\n",
        "\n",
        "# Print out the mean of np_height_in\n",
        "print(np.mean(np_height_in))\n",
        "# Print out the median of np_height_in\n",
        "print(np.median(np_height_in))"
      ],
      "metadata": {
        "id": "6Rb1KQ7FiLaT"
      },
      "execution_count": null,
      "outputs": []
    },
    {
      "cell_type": "markdown",
      "source": [
        "An average height of 1586 inches, that doesn't sound right, does it? However, the median does not seem affected by the outliers: 74 inches makes perfect sense. It's always a good idea to check both the median and the mean, to get an idea about the overall distribution of the entire dataset."
      ],
      "metadata": {
        "id": "H8I1W0CCidb2"
      }
    },
    {
      "cell_type": "markdown",
      "source": [
        "**Exercise**\n",
        "Explore the baseball data\n",
        "Because the mean and median are so far apart, you decide to complain to the MLB. They find the error and send the corrected data over to you. It's again available as a 2D NumPy array np_baseball, with three columns.\n",
        "\n",
        "The Python script in the editor already includes code to print out informative messages with the different summary statistics and numpy is already loaded as np. Can you finish the job? np_baseball is available.\n",
        "\n",
        "Instructions\n",
        "\n",
        "The code to print out the mean height is already included. Complete the code for the median height.\n",
        "Use np.std() on the first column of np_baseball to calculate stddev.\n",
        "Do big players tend to be heavier? Use np.corrcoef() to store the correlation between the first and second column of np_baseball in corr."
      ],
      "metadata": {
        "id": "YxjccpO8ilfJ"
      }
    },
    {
      "cell_type": "code",
      "source": [
        "avg = np.mean(np_baseball[:,0])\n",
        "print(\"Average: \" + str(avg))\n",
        "\n",
        "# Print median height\n",
        "med = ____\n",
        "print(\"Median: \" + str(med))\n",
        "\n",
        "# Print out the standard deviation on height\n",
        "stddev = ____\n",
        "print(\"Standard Deviation: \" + str(stddev))\n",
        "\n",
        "# Print out correlation between first and second column\n",
        "corr = ____\n",
        "print(\"Correlation: \" + str(corr))"
      ],
      "metadata": {
        "id": "xxjBN0hAiwuY"
      },
      "execution_count": null,
      "outputs": []
    }
  ]
}